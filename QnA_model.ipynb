{
  "nbformat": 4,
  "nbformat_minor": 0,
  "metadata": {
    "colab": {
      "provenance": [],
      "gpuType": "L4",
      "machine_shape": "hm",
      "mount_file_id": "1M6T4wpHNMdt_Cr2CEPGoi9j7Xxn70XRd",
      "authorship_tag": "ABX9TyMdNH7LVq6U5W8si4Xlh6GQ",
      "include_colab_link": true
    },
    "kernelspec": {
      "name": "python3",
      "display_name": "Python 3"
    },
    "language_info": {
      "name": "python"
    },
    "accelerator": "GPU",
    "widgets": {
      "application/vnd.jupyter.widget-state+json": {
        "bfcdf1625fd64cab8700b6ed0daf0894": {
          "model_module": "@jupyter-widgets/controls",
          "model_name": "HBoxModel",
          "model_module_version": "1.5.0",
          "state": {
            "_dom_classes": [],
            "_model_module": "@jupyter-widgets/controls",
            "_model_module_version": "1.5.0",
            "_model_name": "HBoxModel",
            "_view_count": null,
            "_view_module": "@jupyter-widgets/controls",
            "_view_module_version": "1.5.0",
            "_view_name": "HBoxView",
            "box_style": "",
            "children": [
              "IPY_MODEL_2437059c52ca4ab1bc76e8312e71dfc2",
              "IPY_MODEL_3fc605c77f6d4997a5d82f5857a4b19f",
              "IPY_MODEL_62eae6e72b644f1ea1c8ba165c8998dd"
            ],
            "layout": "IPY_MODEL_5cd060e69cd64db8b98f8dce2b27e03e"
          }
        },
        "2437059c52ca4ab1bc76e8312e71dfc2": {
          "model_module": "@jupyter-widgets/controls",
          "model_name": "HTMLModel",
          "model_module_version": "1.5.0",
          "state": {
            "_dom_classes": [],
            "_model_module": "@jupyter-widgets/controls",
            "_model_module_version": "1.5.0",
            "_model_name": "HTMLModel",
            "_view_count": null,
            "_view_module": "@jupyter-widgets/controls",
            "_view_module_version": "1.5.0",
            "_view_name": "HTMLView",
            "description": "",
            "description_tooltip": null,
            "layout": "IPY_MODEL_fa8977d5d5654076b0cda878f8a9be50",
            "placeholder": "​",
            "style": "IPY_MODEL_cddb0aae80764dc8a0f8c51799ffb9ea",
            "value": "tokenizer_config.json: 100%"
          }
        },
        "3fc605c77f6d4997a5d82f5857a4b19f": {
          "model_module": "@jupyter-widgets/controls",
          "model_name": "FloatProgressModel",
          "model_module_version": "1.5.0",
          "state": {
            "_dom_classes": [],
            "_model_module": "@jupyter-widgets/controls",
            "_model_module_version": "1.5.0",
            "_model_name": "FloatProgressModel",
            "_view_count": null,
            "_view_module": "@jupyter-widgets/controls",
            "_view_module_version": "1.5.0",
            "_view_name": "ProgressView",
            "bar_style": "success",
            "description": "",
            "description_tooltip": null,
            "layout": "IPY_MODEL_72fe1a0fb08d4f8caf22a509b3e5077b",
            "max": 25,
            "min": 0,
            "orientation": "horizontal",
            "style": "IPY_MODEL_0267001a8c714180b20ff7e75f227a3e",
            "value": 25
          }
        },
        "62eae6e72b644f1ea1c8ba165c8998dd": {
          "model_module": "@jupyter-widgets/controls",
          "model_name": "HTMLModel",
          "model_module_version": "1.5.0",
          "state": {
            "_dom_classes": [],
            "_model_module": "@jupyter-widgets/controls",
            "_model_module_version": "1.5.0",
            "_model_name": "HTMLModel",
            "_view_count": null,
            "_view_module": "@jupyter-widgets/controls",
            "_view_module_version": "1.5.0",
            "_view_name": "HTMLView",
            "description": "",
            "description_tooltip": null,
            "layout": "IPY_MODEL_bdfe6a24a9e84feaa613fbfa6820197b",
            "placeholder": "​",
            "style": "IPY_MODEL_659fc3fe55364ad38dcab9483723cbc9",
            "value": " 25.0/25.0 [00:00&lt;00:00, 2.10kB/s]"
          }
        },
        "5cd060e69cd64db8b98f8dce2b27e03e": {
          "model_module": "@jupyter-widgets/base",
          "model_name": "LayoutModel",
          "model_module_version": "1.2.0",
          "state": {
            "_model_module": "@jupyter-widgets/base",
            "_model_module_version": "1.2.0",
            "_model_name": "LayoutModel",
            "_view_count": null,
            "_view_module": "@jupyter-widgets/base",
            "_view_module_version": "1.2.0",
            "_view_name": "LayoutView",
            "align_content": null,
            "align_items": null,
            "align_self": null,
            "border": null,
            "bottom": null,
            "display": null,
            "flex": null,
            "flex_flow": null,
            "grid_area": null,
            "grid_auto_columns": null,
            "grid_auto_flow": null,
            "grid_auto_rows": null,
            "grid_column": null,
            "grid_gap": null,
            "grid_row": null,
            "grid_template_areas": null,
            "grid_template_columns": null,
            "grid_template_rows": null,
            "height": null,
            "justify_content": null,
            "justify_items": null,
            "left": null,
            "margin": null,
            "max_height": null,
            "max_width": null,
            "min_height": null,
            "min_width": null,
            "object_fit": null,
            "object_position": null,
            "order": null,
            "overflow": null,
            "overflow_x": null,
            "overflow_y": null,
            "padding": null,
            "right": null,
            "top": null,
            "visibility": null,
            "width": null
          }
        },
        "fa8977d5d5654076b0cda878f8a9be50": {
          "model_module": "@jupyter-widgets/base",
          "model_name": "LayoutModel",
          "model_module_version": "1.2.0",
          "state": {
            "_model_module": "@jupyter-widgets/base",
            "_model_module_version": "1.2.0",
            "_model_name": "LayoutModel",
            "_view_count": null,
            "_view_module": "@jupyter-widgets/base",
            "_view_module_version": "1.2.0",
            "_view_name": "LayoutView",
            "align_content": null,
            "align_items": null,
            "align_self": null,
            "border": null,
            "bottom": null,
            "display": null,
            "flex": null,
            "flex_flow": null,
            "grid_area": null,
            "grid_auto_columns": null,
            "grid_auto_flow": null,
            "grid_auto_rows": null,
            "grid_column": null,
            "grid_gap": null,
            "grid_row": null,
            "grid_template_areas": null,
            "grid_template_columns": null,
            "grid_template_rows": null,
            "height": null,
            "justify_content": null,
            "justify_items": null,
            "left": null,
            "margin": null,
            "max_height": null,
            "max_width": null,
            "min_height": null,
            "min_width": null,
            "object_fit": null,
            "object_position": null,
            "order": null,
            "overflow": null,
            "overflow_x": null,
            "overflow_y": null,
            "padding": null,
            "right": null,
            "top": null,
            "visibility": null,
            "width": null
          }
        },
        "cddb0aae80764dc8a0f8c51799ffb9ea": {
          "model_module": "@jupyter-widgets/controls",
          "model_name": "DescriptionStyleModel",
          "model_module_version": "1.5.0",
          "state": {
            "_model_module": "@jupyter-widgets/controls",
            "_model_module_version": "1.5.0",
            "_model_name": "DescriptionStyleModel",
            "_view_count": null,
            "_view_module": "@jupyter-widgets/base",
            "_view_module_version": "1.2.0",
            "_view_name": "StyleView",
            "description_width": ""
          }
        },
        "72fe1a0fb08d4f8caf22a509b3e5077b": {
          "model_module": "@jupyter-widgets/base",
          "model_name": "LayoutModel",
          "model_module_version": "1.2.0",
          "state": {
            "_model_module": "@jupyter-widgets/base",
            "_model_module_version": "1.2.0",
            "_model_name": "LayoutModel",
            "_view_count": null,
            "_view_module": "@jupyter-widgets/base",
            "_view_module_version": "1.2.0",
            "_view_name": "LayoutView",
            "align_content": null,
            "align_items": null,
            "align_self": null,
            "border": null,
            "bottom": null,
            "display": null,
            "flex": null,
            "flex_flow": null,
            "grid_area": null,
            "grid_auto_columns": null,
            "grid_auto_flow": null,
            "grid_auto_rows": null,
            "grid_column": null,
            "grid_gap": null,
            "grid_row": null,
            "grid_template_areas": null,
            "grid_template_columns": null,
            "grid_template_rows": null,
            "height": null,
            "justify_content": null,
            "justify_items": null,
            "left": null,
            "margin": null,
            "max_height": null,
            "max_width": null,
            "min_height": null,
            "min_width": null,
            "object_fit": null,
            "object_position": null,
            "order": null,
            "overflow": null,
            "overflow_x": null,
            "overflow_y": null,
            "padding": null,
            "right": null,
            "top": null,
            "visibility": null,
            "width": null
          }
        },
        "0267001a8c714180b20ff7e75f227a3e": {
          "model_module": "@jupyter-widgets/controls",
          "model_name": "ProgressStyleModel",
          "model_module_version": "1.5.0",
          "state": {
            "_model_module": "@jupyter-widgets/controls",
            "_model_module_version": "1.5.0",
            "_model_name": "ProgressStyleModel",
            "_view_count": null,
            "_view_module": "@jupyter-widgets/base",
            "_view_module_version": "1.2.0",
            "_view_name": "StyleView",
            "bar_color": null,
            "description_width": ""
          }
        },
        "bdfe6a24a9e84feaa613fbfa6820197b": {
          "model_module": "@jupyter-widgets/base",
          "model_name": "LayoutModel",
          "model_module_version": "1.2.0",
          "state": {
            "_model_module": "@jupyter-widgets/base",
            "_model_module_version": "1.2.0",
            "_model_name": "LayoutModel",
            "_view_count": null,
            "_view_module": "@jupyter-widgets/base",
            "_view_module_version": "1.2.0",
            "_view_name": "LayoutView",
            "align_content": null,
            "align_items": null,
            "align_self": null,
            "border": null,
            "bottom": null,
            "display": null,
            "flex": null,
            "flex_flow": null,
            "grid_area": null,
            "grid_auto_columns": null,
            "grid_auto_flow": null,
            "grid_auto_rows": null,
            "grid_column": null,
            "grid_gap": null,
            "grid_row": null,
            "grid_template_areas": null,
            "grid_template_columns": null,
            "grid_template_rows": null,
            "height": null,
            "justify_content": null,
            "justify_items": null,
            "left": null,
            "margin": null,
            "max_height": null,
            "max_width": null,
            "min_height": null,
            "min_width": null,
            "object_fit": null,
            "object_position": null,
            "order": null,
            "overflow": null,
            "overflow_x": null,
            "overflow_y": null,
            "padding": null,
            "right": null,
            "top": null,
            "visibility": null,
            "width": null
          }
        },
        "659fc3fe55364ad38dcab9483723cbc9": {
          "model_module": "@jupyter-widgets/controls",
          "model_name": "DescriptionStyleModel",
          "model_module_version": "1.5.0",
          "state": {
            "_model_module": "@jupyter-widgets/controls",
            "_model_module_version": "1.5.0",
            "_model_name": "DescriptionStyleModel",
            "_view_count": null,
            "_view_module": "@jupyter-widgets/base",
            "_view_module_version": "1.2.0",
            "_view_name": "StyleView",
            "description_width": ""
          }
        },
        "64dd0bb3f8bc47db8c21963cec9fb3fd": {
          "model_module": "@jupyter-widgets/controls",
          "model_name": "HBoxModel",
          "model_module_version": "1.5.0",
          "state": {
            "_dom_classes": [],
            "_model_module": "@jupyter-widgets/controls",
            "_model_module_version": "1.5.0",
            "_model_name": "HBoxModel",
            "_view_count": null,
            "_view_module": "@jupyter-widgets/controls",
            "_view_module_version": "1.5.0",
            "_view_name": "HBoxView",
            "box_style": "",
            "children": [
              "IPY_MODEL_06fc69b6ccef464d96a3700f7efe2a58",
              "IPY_MODEL_02498c7112b34c0ea412950acb150f38",
              "IPY_MODEL_fd6c6a87a144451e93a662d15163290d"
            ],
            "layout": "IPY_MODEL_1fd85a92896e40b1959b180d327520d0"
          }
        },
        "06fc69b6ccef464d96a3700f7efe2a58": {
          "model_module": "@jupyter-widgets/controls",
          "model_name": "HTMLModel",
          "model_module_version": "1.5.0",
          "state": {
            "_dom_classes": [],
            "_model_module": "@jupyter-widgets/controls",
            "_model_module_version": "1.5.0",
            "_model_name": "HTMLModel",
            "_view_count": null,
            "_view_module": "@jupyter-widgets/controls",
            "_view_module_version": "1.5.0",
            "_view_name": "HTMLView",
            "description": "",
            "description_tooltip": null,
            "layout": "IPY_MODEL_272bc1e9cc1946f994759f49f0ec7702",
            "placeholder": "​",
            "style": "IPY_MODEL_f396bb87e8354c569580cf4370201afb",
            "value": "vocab.json: 100%"
          }
        },
        "02498c7112b34c0ea412950acb150f38": {
          "model_module": "@jupyter-widgets/controls",
          "model_name": "FloatProgressModel",
          "model_module_version": "1.5.0",
          "state": {
            "_dom_classes": [],
            "_model_module": "@jupyter-widgets/controls",
            "_model_module_version": "1.5.0",
            "_model_name": "FloatProgressModel",
            "_view_count": null,
            "_view_module": "@jupyter-widgets/controls",
            "_view_module_version": "1.5.0",
            "_view_name": "ProgressView",
            "bar_style": "success",
            "description": "",
            "description_tooltip": null,
            "layout": "IPY_MODEL_ee6344bd02b4450497a5026b6cf5c4fe",
            "max": 898823,
            "min": 0,
            "orientation": "horizontal",
            "style": "IPY_MODEL_38efc1d2251549e7bfb61f28c9c521e1",
            "value": 898823
          }
        },
        "fd6c6a87a144451e93a662d15163290d": {
          "model_module": "@jupyter-widgets/controls",
          "model_name": "HTMLModel",
          "model_module_version": "1.5.0",
          "state": {
            "_dom_classes": [],
            "_model_module": "@jupyter-widgets/controls",
            "_model_module_version": "1.5.0",
            "_model_name": "HTMLModel",
            "_view_count": null,
            "_view_module": "@jupyter-widgets/controls",
            "_view_module_version": "1.5.0",
            "_view_name": "HTMLView",
            "description": "",
            "description_tooltip": null,
            "layout": "IPY_MODEL_e348d71bc0a04500baa8784ac4f77694",
            "placeholder": "​",
            "style": "IPY_MODEL_cf35e9da700c4227820fc7a53fd1aa78",
            "value": " 899k/899k [00:00&lt;00:00, 1.30MB/s]"
          }
        },
        "1fd85a92896e40b1959b180d327520d0": {
          "model_module": "@jupyter-widgets/base",
          "model_name": "LayoutModel",
          "model_module_version": "1.2.0",
          "state": {
            "_model_module": "@jupyter-widgets/base",
            "_model_module_version": "1.2.0",
            "_model_name": "LayoutModel",
            "_view_count": null,
            "_view_module": "@jupyter-widgets/base",
            "_view_module_version": "1.2.0",
            "_view_name": "LayoutView",
            "align_content": null,
            "align_items": null,
            "align_self": null,
            "border": null,
            "bottom": null,
            "display": null,
            "flex": null,
            "flex_flow": null,
            "grid_area": null,
            "grid_auto_columns": null,
            "grid_auto_flow": null,
            "grid_auto_rows": null,
            "grid_column": null,
            "grid_gap": null,
            "grid_row": null,
            "grid_template_areas": null,
            "grid_template_columns": null,
            "grid_template_rows": null,
            "height": null,
            "justify_content": null,
            "justify_items": null,
            "left": null,
            "margin": null,
            "max_height": null,
            "max_width": null,
            "min_height": null,
            "min_width": null,
            "object_fit": null,
            "object_position": null,
            "order": null,
            "overflow": null,
            "overflow_x": null,
            "overflow_y": null,
            "padding": null,
            "right": null,
            "top": null,
            "visibility": null,
            "width": null
          }
        },
        "272bc1e9cc1946f994759f49f0ec7702": {
          "model_module": "@jupyter-widgets/base",
          "model_name": "LayoutModel",
          "model_module_version": "1.2.0",
          "state": {
            "_model_module": "@jupyter-widgets/base",
            "_model_module_version": "1.2.0",
            "_model_name": "LayoutModel",
            "_view_count": null,
            "_view_module": "@jupyter-widgets/base",
            "_view_module_version": "1.2.0",
            "_view_name": "LayoutView",
            "align_content": null,
            "align_items": null,
            "align_self": null,
            "border": null,
            "bottom": null,
            "display": null,
            "flex": null,
            "flex_flow": null,
            "grid_area": null,
            "grid_auto_columns": null,
            "grid_auto_flow": null,
            "grid_auto_rows": null,
            "grid_column": null,
            "grid_gap": null,
            "grid_row": null,
            "grid_template_areas": null,
            "grid_template_columns": null,
            "grid_template_rows": null,
            "height": null,
            "justify_content": null,
            "justify_items": null,
            "left": null,
            "margin": null,
            "max_height": null,
            "max_width": null,
            "min_height": null,
            "min_width": null,
            "object_fit": null,
            "object_position": null,
            "order": null,
            "overflow": null,
            "overflow_x": null,
            "overflow_y": null,
            "padding": null,
            "right": null,
            "top": null,
            "visibility": null,
            "width": null
          }
        },
        "f396bb87e8354c569580cf4370201afb": {
          "model_module": "@jupyter-widgets/controls",
          "model_name": "DescriptionStyleModel",
          "model_module_version": "1.5.0",
          "state": {
            "_model_module": "@jupyter-widgets/controls",
            "_model_module_version": "1.5.0",
            "_model_name": "DescriptionStyleModel",
            "_view_count": null,
            "_view_module": "@jupyter-widgets/base",
            "_view_module_version": "1.2.0",
            "_view_name": "StyleView",
            "description_width": ""
          }
        },
        "ee6344bd02b4450497a5026b6cf5c4fe": {
          "model_module": "@jupyter-widgets/base",
          "model_name": "LayoutModel",
          "model_module_version": "1.2.0",
          "state": {
            "_model_module": "@jupyter-widgets/base",
            "_model_module_version": "1.2.0",
            "_model_name": "LayoutModel",
            "_view_count": null,
            "_view_module": "@jupyter-widgets/base",
            "_view_module_version": "1.2.0",
            "_view_name": "LayoutView",
            "align_content": null,
            "align_items": null,
            "align_self": null,
            "border": null,
            "bottom": null,
            "display": null,
            "flex": null,
            "flex_flow": null,
            "grid_area": null,
            "grid_auto_columns": null,
            "grid_auto_flow": null,
            "grid_auto_rows": null,
            "grid_column": null,
            "grid_gap": null,
            "grid_row": null,
            "grid_template_areas": null,
            "grid_template_columns": null,
            "grid_template_rows": null,
            "height": null,
            "justify_content": null,
            "justify_items": null,
            "left": null,
            "margin": null,
            "max_height": null,
            "max_width": null,
            "min_height": null,
            "min_width": null,
            "object_fit": null,
            "object_position": null,
            "order": null,
            "overflow": null,
            "overflow_x": null,
            "overflow_y": null,
            "padding": null,
            "right": null,
            "top": null,
            "visibility": null,
            "width": null
          }
        },
        "38efc1d2251549e7bfb61f28c9c521e1": {
          "model_module": "@jupyter-widgets/controls",
          "model_name": "ProgressStyleModel",
          "model_module_version": "1.5.0",
          "state": {
            "_model_module": "@jupyter-widgets/controls",
            "_model_module_version": "1.5.0",
            "_model_name": "ProgressStyleModel",
            "_view_count": null,
            "_view_module": "@jupyter-widgets/base",
            "_view_module_version": "1.2.0",
            "_view_name": "StyleView",
            "bar_color": null,
            "description_width": ""
          }
        },
        "e348d71bc0a04500baa8784ac4f77694": {
          "model_module": "@jupyter-widgets/base",
          "model_name": "LayoutModel",
          "model_module_version": "1.2.0",
          "state": {
            "_model_module": "@jupyter-widgets/base",
            "_model_module_version": "1.2.0",
            "_model_name": "LayoutModel",
            "_view_count": null,
            "_view_module": "@jupyter-widgets/base",
            "_view_module_version": "1.2.0",
            "_view_name": "LayoutView",
            "align_content": null,
            "align_items": null,
            "align_self": null,
            "border": null,
            "bottom": null,
            "display": null,
            "flex": null,
            "flex_flow": null,
            "grid_area": null,
            "grid_auto_columns": null,
            "grid_auto_flow": null,
            "grid_auto_rows": null,
            "grid_column": null,
            "grid_gap": null,
            "grid_row": null,
            "grid_template_areas": null,
            "grid_template_columns": null,
            "grid_template_rows": null,
            "height": null,
            "justify_content": null,
            "justify_items": null,
            "left": null,
            "margin": null,
            "max_height": null,
            "max_width": null,
            "min_height": null,
            "min_width": null,
            "object_fit": null,
            "object_position": null,
            "order": null,
            "overflow": null,
            "overflow_x": null,
            "overflow_y": null,
            "padding": null,
            "right": null,
            "top": null,
            "visibility": null,
            "width": null
          }
        },
        "cf35e9da700c4227820fc7a53fd1aa78": {
          "model_module": "@jupyter-widgets/controls",
          "model_name": "DescriptionStyleModel",
          "model_module_version": "1.5.0",
          "state": {
            "_model_module": "@jupyter-widgets/controls",
            "_model_module_version": "1.5.0",
            "_model_name": "DescriptionStyleModel",
            "_view_count": null,
            "_view_module": "@jupyter-widgets/base",
            "_view_module_version": "1.2.0",
            "_view_name": "StyleView",
            "description_width": ""
          }
        },
        "ec11dcdf0685445b88e5267b94b81352": {
          "model_module": "@jupyter-widgets/controls",
          "model_name": "HBoxModel",
          "model_module_version": "1.5.0",
          "state": {
            "_dom_classes": [],
            "_model_module": "@jupyter-widgets/controls",
            "_model_module_version": "1.5.0",
            "_model_name": "HBoxModel",
            "_view_count": null,
            "_view_module": "@jupyter-widgets/controls",
            "_view_module_version": "1.5.0",
            "_view_name": "HBoxView",
            "box_style": "",
            "children": [
              "IPY_MODEL_c70e6a156be94bf896a8ca143ce328f9",
              "IPY_MODEL_616027c69bd1471093e70a485b36285f",
              "IPY_MODEL_ab0fe3f803374844beb49600f5e6e4b9"
            ],
            "layout": "IPY_MODEL_a9eac945042e4311b3b43f6174de6e91"
          }
        },
        "c70e6a156be94bf896a8ca143ce328f9": {
          "model_module": "@jupyter-widgets/controls",
          "model_name": "HTMLModel",
          "model_module_version": "1.5.0",
          "state": {
            "_dom_classes": [],
            "_model_module": "@jupyter-widgets/controls",
            "_model_module_version": "1.5.0",
            "_model_name": "HTMLModel",
            "_view_count": null,
            "_view_module": "@jupyter-widgets/controls",
            "_view_module_version": "1.5.0",
            "_view_name": "HTMLView",
            "description": "",
            "description_tooltip": null,
            "layout": "IPY_MODEL_4fdbd96616d2451ea0cf75d06cb67bef",
            "placeholder": "​",
            "style": "IPY_MODEL_f9a649c4124f4f2c87620677bfd40566",
            "value": "merges.txt: 100%"
          }
        },
        "616027c69bd1471093e70a485b36285f": {
          "model_module": "@jupyter-widgets/controls",
          "model_name": "FloatProgressModel",
          "model_module_version": "1.5.0",
          "state": {
            "_dom_classes": [],
            "_model_module": "@jupyter-widgets/controls",
            "_model_module_version": "1.5.0",
            "_model_name": "FloatProgressModel",
            "_view_count": null,
            "_view_module": "@jupyter-widgets/controls",
            "_view_module_version": "1.5.0",
            "_view_name": "ProgressView",
            "bar_style": "success",
            "description": "",
            "description_tooltip": null,
            "layout": "IPY_MODEL_8eaf19f90bc64680b1f75b1aeb957dfa",
            "max": 456318,
            "min": 0,
            "orientation": "horizontal",
            "style": "IPY_MODEL_eab34c353cbe408a966449c50b5902e1",
            "value": 456318
          }
        },
        "ab0fe3f803374844beb49600f5e6e4b9": {
          "model_module": "@jupyter-widgets/controls",
          "model_name": "HTMLModel",
          "model_module_version": "1.5.0",
          "state": {
            "_dom_classes": [],
            "_model_module": "@jupyter-widgets/controls",
            "_model_module_version": "1.5.0",
            "_model_name": "HTMLModel",
            "_view_count": null,
            "_view_module": "@jupyter-widgets/controls",
            "_view_module_version": "1.5.0",
            "_view_name": "HTMLView",
            "description": "",
            "description_tooltip": null,
            "layout": "IPY_MODEL_33e19316ae1b4b6d8f3fe7a2676e0e71",
            "placeholder": "​",
            "style": "IPY_MODEL_18adb679b4a446a9b4c0ec201ad1d8ca",
            "value": " 456k/456k [00:00&lt;00:00, 640kB/s]"
          }
        },
        "a9eac945042e4311b3b43f6174de6e91": {
          "model_module": "@jupyter-widgets/base",
          "model_name": "LayoutModel",
          "model_module_version": "1.2.0",
          "state": {
            "_model_module": "@jupyter-widgets/base",
            "_model_module_version": "1.2.0",
            "_model_name": "LayoutModel",
            "_view_count": null,
            "_view_module": "@jupyter-widgets/base",
            "_view_module_version": "1.2.0",
            "_view_name": "LayoutView",
            "align_content": null,
            "align_items": null,
            "align_self": null,
            "border": null,
            "bottom": null,
            "display": null,
            "flex": null,
            "flex_flow": null,
            "grid_area": null,
            "grid_auto_columns": null,
            "grid_auto_flow": null,
            "grid_auto_rows": null,
            "grid_column": null,
            "grid_gap": null,
            "grid_row": null,
            "grid_template_areas": null,
            "grid_template_columns": null,
            "grid_template_rows": null,
            "height": null,
            "justify_content": null,
            "justify_items": null,
            "left": null,
            "margin": null,
            "max_height": null,
            "max_width": null,
            "min_height": null,
            "min_width": null,
            "object_fit": null,
            "object_position": null,
            "order": null,
            "overflow": null,
            "overflow_x": null,
            "overflow_y": null,
            "padding": null,
            "right": null,
            "top": null,
            "visibility": null,
            "width": null
          }
        },
        "4fdbd96616d2451ea0cf75d06cb67bef": {
          "model_module": "@jupyter-widgets/base",
          "model_name": "LayoutModel",
          "model_module_version": "1.2.0",
          "state": {
            "_model_module": "@jupyter-widgets/base",
            "_model_module_version": "1.2.0",
            "_model_name": "LayoutModel",
            "_view_count": null,
            "_view_module": "@jupyter-widgets/base",
            "_view_module_version": "1.2.0",
            "_view_name": "LayoutView",
            "align_content": null,
            "align_items": null,
            "align_self": null,
            "border": null,
            "bottom": null,
            "display": null,
            "flex": null,
            "flex_flow": null,
            "grid_area": null,
            "grid_auto_columns": null,
            "grid_auto_flow": null,
            "grid_auto_rows": null,
            "grid_column": null,
            "grid_gap": null,
            "grid_row": null,
            "grid_template_areas": null,
            "grid_template_columns": null,
            "grid_template_rows": null,
            "height": null,
            "justify_content": null,
            "justify_items": null,
            "left": null,
            "margin": null,
            "max_height": null,
            "max_width": null,
            "min_height": null,
            "min_width": null,
            "object_fit": null,
            "object_position": null,
            "order": null,
            "overflow": null,
            "overflow_x": null,
            "overflow_y": null,
            "padding": null,
            "right": null,
            "top": null,
            "visibility": null,
            "width": null
          }
        },
        "f9a649c4124f4f2c87620677bfd40566": {
          "model_module": "@jupyter-widgets/controls",
          "model_name": "DescriptionStyleModel",
          "model_module_version": "1.5.0",
          "state": {
            "_model_module": "@jupyter-widgets/controls",
            "_model_module_version": "1.5.0",
            "_model_name": "DescriptionStyleModel",
            "_view_count": null,
            "_view_module": "@jupyter-widgets/base",
            "_view_module_version": "1.2.0",
            "_view_name": "StyleView",
            "description_width": ""
          }
        },
        "8eaf19f90bc64680b1f75b1aeb957dfa": {
          "model_module": "@jupyter-widgets/base",
          "model_name": "LayoutModel",
          "model_module_version": "1.2.0",
          "state": {
            "_model_module": "@jupyter-widgets/base",
            "_model_module_version": "1.2.0",
            "_model_name": "LayoutModel",
            "_view_count": null,
            "_view_module": "@jupyter-widgets/base",
            "_view_module_version": "1.2.0",
            "_view_name": "LayoutView",
            "align_content": null,
            "align_items": null,
            "align_self": null,
            "border": null,
            "bottom": null,
            "display": null,
            "flex": null,
            "flex_flow": null,
            "grid_area": null,
            "grid_auto_columns": null,
            "grid_auto_flow": null,
            "grid_auto_rows": null,
            "grid_column": null,
            "grid_gap": null,
            "grid_row": null,
            "grid_template_areas": null,
            "grid_template_columns": null,
            "grid_template_rows": null,
            "height": null,
            "justify_content": null,
            "justify_items": null,
            "left": null,
            "margin": null,
            "max_height": null,
            "max_width": null,
            "min_height": null,
            "min_width": null,
            "object_fit": null,
            "object_position": null,
            "order": null,
            "overflow": null,
            "overflow_x": null,
            "overflow_y": null,
            "padding": null,
            "right": null,
            "top": null,
            "visibility": null,
            "width": null
          }
        },
        "eab34c353cbe408a966449c50b5902e1": {
          "model_module": "@jupyter-widgets/controls",
          "model_name": "ProgressStyleModel",
          "model_module_version": "1.5.0",
          "state": {
            "_model_module": "@jupyter-widgets/controls",
            "_model_module_version": "1.5.0",
            "_model_name": "ProgressStyleModel",
            "_view_count": null,
            "_view_module": "@jupyter-widgets/base",
            "_view_module_version": "1.2.0",
            "_view_name": "StyleView",
            "bar_color": null,
            "description_width": ""
          }
        },
        "33e19316ae1b4b6d8f3fe7a2676e0e71": {
          "model_module": "@jupyter-widgets/base",
          "model_name": "LayoutModel",
          "model_module_version": "1.2.0",
          "state": {
            "_model_module": "@jupyter-widgets/base",
            "_model_module_version": "1.2.0",
            "_model_name": "LayoutModel",
            "_view_count": null,
            "_view_module": "@jupyter-widgets/base",
            "_view_module_version": "1.2.0",
            "_view_name": "LayoutView",
            "align_content": null,
            "align_items": null,
            "align_self": null,
            "border": null,
            "bottom": null,
            "display": null,
            "flex": null,
            "flex_flow": null,
            "grid_area": null,
            "grid_auto_columns": null,
            "grid_auto_flow": null,
            "grid_auto_rows": null,
            "grid_column": null,
            "grid_gap": null,
            "grid_row": null,
            "grid_template_areas": null,
            "grid_template_columns": null,
            "grid_template_rows": null,
            "height": null,
            "justify_content": null,
            "justify_items": null,
            "left": null,
            "margin": null,
            "max_height": null,
            "max_width": null,
            "min_height": null,
            "min_width": null,
            "object_fit": null,
            "object_position": null,
            "order": null,
            "overflow": null,
            "overflow_x": null,
            "overflow_y": null,
            "padding": null,
            "right": null,
            "top": null,
            "visibility": null,
            "width": null
          }
        },
        "18adb679b4a446a9b4c0ec201ad1d8ca": {
          "model_module": "@jupyter-widgets/controls",
          "model_name": "DescriptionStyleModel",
          "model_module_version": "1.5.0",
          "state": {
            "_model_module": "@jupyter-widgets/controls",
            "_model_module_version": "1.5.0",
            "_model_name": "DescriptionStyleModel",
            "_view_count": null,
            "_view_module": "@jupyter-widgets/base",
            "_view_module_version": "1.2.0",
            "_view_name": "StyleView",
            "description_width": ""
          }
        },
        "74bb2a1125554bc58474d343387851e5": {
          "model_module": "@jupyter-widgets/controls",
          "model_name": "HBoxModel",
          "model_module_version": "1.5.0",
          "state": {
            "_dom_classes": [],
            "_model_module": "@jupyter-widgets/controls",
            "_model_module_version": "1.5.0",
            "_model_name": "HBoxModel",
            "_view_count": null,
            "_view_module": "@jupyter-widgets/controls",
            "_view_module_version": "1.5.0",
            "_view_name": "HBoxView",
            "box_style": "",
            "children": [
              "IPY_MODEL_38f5933b3cb243c8aea5a1fd0dcd0eb3",
              "IPY_MODEL_861c41870f5547c2addef6df93232bc7",
              "IPY_MODEL_2d6d4115f206466fbc89faa224b1419c"
            ],
            "layout": "IPY_MODEL_b85b148c064e4bf7ba825d2f7bf1bc75"
          }
        },
        "38f5933b3cb243c8aea5a1fd0dcd0eb3": {
          "model_module": "@jupyter-widgets/controls",
          "model_name": "HTMLModel",
          "model_module_version": "1.5.0",
          "state": {
            "_dom_classes": [],
            "_model_module": "@jupyter-widgets/controls",
            "_model_module_version": "1.5.0",
            "_model_name": "HTMLModel",
            "_view_count": null,
            "_view_module": "@jupyter-widgets/controls",
            "_view_module_version": "1.5.0",
            "_view_name": "HTMLView",
            "description": "",
            "description_tooltip": null,
            "layout": "IPY_MODEL_07d4890fa1634da2bcadce5957606207",
            "placeholder": "​",
            "style": "IPY_MODEL_6559777d31184ce080210311635bde06",
            "value": "tokenizer.json: 100%"
          }
        },
        "861c41870f5547c2addef6df93232bc7": {
          "model_module": "@jupyter-widgets/controls",
          "model_name": "FloatProgressModel",
          "model_module_version": "1.5.0",
          "state": {
            "_dom_classes": [],
            "_model_module": "@jupyter-widgets/controls",
            "_model_module_version": "1.5.0",
            "_model_name": "FloatProgressModel",
            "_view_count": null,
            "_view_module": "@jupyter-widgets/controls",
            "_view_module_version": "1.5.0",
            "_view_name": "ProgressView",
            "bar_style": "success",
            "description": "",
            "description_tooltip": null,
            "layout": "IPY_MODEL_07f1b018b362452d8a556da7f5b558d9",
            "max": 1355863,
            "min": 0,
            "orientation": "horizontal",
            "style": "IPY_MODEL_8f09d9efb51c42e8856c2872cf8e7d3f",
            "value": 1355863
          }
        },
        "2d6d4115f206466fbc89faa224b1419c": {
          "model_module": "@jupyter-widgets/controls",
          "model_name": "HTMLModel",
          "model_module_version": "1.5.0",
          "state": {
            "_dom_classes": [],
            "_model_module": "@jupyter-widgets/controls",
            "_model_module_version": "1.5.0",
            "_model_name": "HTMLModel",
            "_view_count": null,
            "_view_module": "@jupyter-widgets/controls",
            "_view_module_version": "1.5.0",
            "_view_name": "HTMLView",
            "description": "",
            "description_tooltip": null,
            "layout": "IPY_MODEL_dd557ac39b2f466d8fc21d956a357242",
            "placeholder": "​",
            "style": "IPY_MODEL_f8cd5cd798be464d84739eb8f1016579",
            "value": " 1.36M/1.36M [00:00&lt;00:00, 5.55MB/s]"
          }
        },
        "b85b148c064e4bf7ba825d2f7bf1bc75": {
          "model_module": "@jupyter-widgets/base",
          "model_name": "LayoutModel",
          "model_module_version": "1.2.0",
          "state": {
            "_model_module": "@jupyter-widgets/base",
            "_model_module_version": "1.2.0",
            "_model_name": "LayoutModel",
            "_view_count": null,
            "_view_module": "@jupyter-widgets/base",
            "_view_module_version": "1.2.0",
            "_view_name": "LayoutView",
            "align_content": null,
            "align_items": null,
            "align_self": null,
            "border": null,
            "bottom": null,
            "display": null,
            "flex": null,
            "flex_flow": null,
            "grid_area": null,
            "grid_auto_columns": null,
            "grid_auto_flow": null,
            "grid_auto_rows": null,
            "grid_column": null,
            "grid_gap": null,
            "grid_row": null,
            "grid_template_areas": null,
            "grid_template_columns": null,
            "grid_template_rows": null,
            "height": null,
            "justify_content": null,
            "justify_items": null,
            "left": null,
            "margin": null,
            "max_height": null,
            "max_width": null,
            "min_height": null,
            "min_width": null,
            "object_fit": null,
            "object_position": null,
            "order": null,
            "overflow": null,
            "overflow_x": null,
            "overflow_y": null,
            "padding": null,
            "right": null,
            "top": null,
            "visibility": null,
            "width": null
          }
        },
        "07d4890fa1634da2bcadce5957606207": {
          "model_module": "@jupyter-widgets/base",
          "model_name": "LayoutModel",
          "model_module_version": "1.2.0",
          "state": {
            "_model_module": "@jupyter-widgets/base",
            "_model_module_version": "1.2.0",
            "_model_name": "LayoutModel",
            "_view_count": null,
            "_view_module": "@jupyter-widgets/base",
            "_view_module_version": "1.2.0",
            "_view_name": "LayoutView",
            "align_content": null,
            "align_items": null,
            "align_self": null,
            "border": null,
            "bottom": null,
            "display": null,
            "flex": null,
            "flex_flow": null,
            "grid_area": null,
            "grid_auto_columns": null,
            "grid_auto_flow": null,
            "grid_auto_rows": null,
            "grid_column": null,
            "grid_gap": null,
            "grid_row": null,
            "grid_template_areas": null,
            "grid_template_columns": null,
            "grid_template_rows": null,
            "height": null,
            "justify_content": null,
            "justify_items": null,
            "left": null,
            "margin": null,
            "max_height": null,
            "max_width": null,
            "min_height": null,
            "min_width": null,
            "object_fit": null,
            "object_position": null,
            "order": null,
            "overflow": null,
            "overflow_x": null,
            "overflow_y": null,
            "padding": null,
            "right": null,
            "top": null,
            "visibility": null,
            "width": null
          }
        },
        "6559777d31184ce080210311635bde06": {
          "model_module": "@jupyter-widgets/controls",
          "model_name": "DescriptionStyleModel",
          "model_module_version": "1.5.0",
          "state": {
            "_model_module": "@jupyter-widgets/controls",
            "_model_module_version": "1.5.0",
            "_model_name": "DescriptionStyleModel",
            "_view_count": null,
            "_view_module": "@jupyter-widgets/base",
            "_view_module_version": "1.2.0",
            "_view_name": "StyleView",
            "description_width": ""
          }
        },
        "07f1b018b362452d8a556da7f5b558d9": {
          "model_module": "@jupyter-widgets/base",
          "model_name": "LayoutModel",
          "model_module_version": "1.2.0",
          "state": {
            "_model_module": "@jupyter-widgets/base",
            "_model_module_version": "1.2.0",
            "_model_name": "LayoutModel",
            "_view_count": null,
            "_view_module": "@jupyter-widgets/base",
            "_view_module_version": "1.2.0",
            "_view_name": "LayoutView",
            "align_content": null,
            "align_items": null,
            "align_self": null,
            "border": null,
            "bottom": null,
            "display": null,
            "flex": null,
            "flex_flow": null,
            "grid_area": null,
            "grid_auto_columns": null,
            "grid_auto_flow": null,
            "grid_auto_rows": null,
            "grid_column": null,
            "grid_gap": null,
            "grid_row": null,
            "grid_template_areas": null,
            "grid_template_columns": null,
            "grid_template_rows": null,
            "height": null,
            "justify_content": null,
            "justify_items": null,
            "left": null,
            "margin": null,
            "max_height": null,
            "max_width": null,
            "min_height": null,
            "min_width": null,
            "object_fit": null,
            "object_position": null,
            "order": null,
            "overflow": null,
            "overflow_x": null,
            "overflow_y": null,
            "padding": null,
            "right": null,
            "top": null,
            "visibility": null,
            "width": null
          }
        },
        "8f09d9efb51c42e8856c2872cf8e7d3f": {
          "model_module": "@jupyter-widgets/controls",
          "model_name": "ProgressStyleModel",
          "model_module_version": "1.5.0",
          "state": {
            "_model_module": "@jupyter-widgets/controls",
            "_model_module_version": "1.5.0",
            "_model_name": "ProgressStyleModel",
            "_view_count": null,
            "_view_module": "@jupyter-widgets/base",
            "_view_module_version": "1.2.0",
            "_view_name": "StyleView",
            "bar_color": null,
            "description_width": ""
          }
        },
        "dd557ac39b2f466d8fc21d956a357242": {
          "model_module": "@jupyter-widgets/base",
          "model_name": "LayoutModel",
          "model_module_version": "1.2.0",
          "state": {
            "_model_module": "@jupyter-widgets/base",
            "_model_module_version": "1.2.0",
            "_model_name": "LayoutModel",
            "_view_count": null,
            "_view_module": "@jupyter-widgets/base",
            "_view_module_version": "1.2.0",
            "_view_name": "LayoutView",
            "align_content": null,
            "align_items": null,
            "align_self": null,
            "border": null,
            "bottom": null,
            "display": null,
            "flex": null,
            "flex_flow": null,
            "grid_area": null,
            "grid_auto_columns": null,
            "grid_auto_flow": null,
            "grid_auto_rows": null,
            "grid_column": null,
            "grid_gap": null,
            "grid_row": null,
            "grid_template_areas": null,
            "grid_template_columns": null,
            "grid_template_rows": null,
            "height": null,
            "justify_content": null,
            "justify_items": null,
            "left": null,
            "margin": null,
            "max_height": null,
            "max_width": null,
            "min_height": null,
            "min_width": null,
            "object_fit": null,
            "object_position": null,
            "order": null,
            "overflow": null,
            "overflow_x": null,
            "overflow_y": null,
            "padding": null,
            "right": null,
            "top": null,
            "visibility": null,
            "width": null
          }
        },
        "f8cd5cd798be464d84739eb8f1016579": {
          "model_module": "@jupyter-widgets/controls",
          "model_name": "DescriptionStyleModel",
          "model_module_version": "1.5.0",
          "state": {
            "_model_module": "@jupyter-widgets/controls",
            "_model_module_version": "1.5.0",
            "_model_name": "DescriptionStyleModel",
            "_view_count": null,
            "_view_module": "@jupyter-widgets/base",
            "_view_module_version": "1.2.0",
            "_view_name": "StyleView",
            "description_width": ""
          }
        },
        "a4429b5c6d304b26b62d81398d73e9b8": {
          "model_module": "@jupyter-widgets/controls",
          "model_name": "HBoxModel",
          "model_module_version": "1.5.0",
          "state": {
            "_dom_classes": [],
            "_model_module": "@jupyter-widgets/controls",
            "_model_module_version": "1.5.0",
            "_model_name": "HBoxModel",
            "_view_count": null,
            "_view_module": "@jupyter-widgets/controls",
            "_view_module_version": "1.5.0",
            "_view_name": "HBoxView",
            "box_style": "",
            "children": [
              "IPY_MODEL_a350a1f95b044611bbfff88561ce88b3",
              "IPY_MODEL_6e1a89cd09e840138db0652548ad436d",
              "IPY_MODEL_9dc1b673fbb44852bde80a3b6426799e"
            ],
            "layout": "IPY_MODEL_a2d4a868ec4f4948a4b443f2bcace06b"
          }
        },
        "a350a1f95b044611bbfff88561ce88b3": {
          "model_module": "@jupyter-widgets/controls",
          "model_name": "HTMLModel",
          "model_module_version": "1.5.0",
          "state": {
            "_dom_classes": [],
            "_model_module": "@jupyter-widgets/controls",
            "_model_module_version": "1.5.0",
            "_model_name": "HTMLModel",
            "_view_count": null,
            "_view_module": "@jupyter-widgets/controls",
            "_view_module_version": "1.5.0",
            "_view_name": "HTMLView",
            "description": "",
            "description_tooltip": null,
            "layout": "IPY_MODEL_fc9c8ef144e74809b53f86619e6e26a0",
            "placeholder": "​",
            "style": "IPY_MODEL_56e8cc223607442e80cfbaf6e466305e",
            "value": "config.json: 100%"
          }
        },
        "6e1a89cd09e840138db0652548ad436d": {
          "model_module": "@jupyter-widgets/controls",
          "model_name": "FloatProgressModel",
          "model_module_version": "1.5.0",
          "state": {
            "_dom_classes": [],
            "_model_module": "@jupyter-widgets/controls",
            "_model_module_version": "1.5.0",
            "_model_name": "FloatProgressModel",
            "_view_count": null,
            "_view_module": "@jupyter-widgets/controls",
            "_view_module_version": "1.5.0",
            "_view_name": "ProgressView",
            "bar_style": "success",
            "description": "",
            "description_tooltip": null,
            "layout": "IPY_MODEL_0c0cac4f73534884933c4fd5ec4d5cae",
            "max": 481,
            "min": 0,
            "orientation": "horizontal",
            "style": "IPY_MODEL_e648aa3608514ffea958c78374bd6584",
            "value": 481
          }
        },
        "9dc1b673fbb44852bde80a3b6426799e": {
          "model_module": "@jupyter-widgets/controls",
          "model_name": "HTMLModel",
          "model_module_version": "1.5.0",
          "state": {
            "_dom_classes": [],
            "_model_module": "@jupyter-widgets/controls",
            "_model_module_version": "1.5.0",
            "_model_name": "HTMLModel",
            "_view_count": null,
            "_view_module": "@jupyter-widgets/controls",
            "_view_module_version": "1.5.0",
            "_view_name": "HTMLView",
            "description": "",
            "description_tooltip": null,
            "layout": "IPY_MODEL_440dcdc7525947de8513d5cd2691b348",
            "placeholder": "​",
            "style": "IPY_MODEL_8664fcc4a1ca42acb0f279c3bf6ebf7d",
            "value": " 481/481 [00:00&lt;00:00, 41.0kB/s]"
          }
        },
        "a2d4a868ec4f4948a4b443f2bcace06b": {
          "model_module": "@jupyter-widgets/base",
          "model_name": "LayoutModel",
          "model_module_version": "1.2.0",
          "state": {
            "_model_module": "@jupyter-widgets/base",
            "_model_module_version": "1.2.0",
            "_model_name": "LayoutModel",
            "_view_count": null,
            "_view_module": "@jupyter-widgets/base",
            "_view_module_version": "1.2.0",
            "_view_name": "LayoutView",
            "align_content": null,
            "align_items": null,
            "align_self": null,
            "border": null,
            "bottom": null,
            "display": null,
            "flex": null,
            "flex_flow": null,
            "grid_area": null,
            "grid_auto_columns": null,
            "grid_auto_flow": null,
            "grid_auto_rows": null,
            "grid_column": null,
            "grid_gap": null,
            "grid_row": null,
            "grid_template_areas": null,
            "grid_template_columns": null,
            "grid_template_rows": null,
            "height": null,
            "justify_content": null,
            "justify_items": null,
            "left": null,
            "margin": null,
            "max_height": null,
            "max_width": null,
            "min_height": null,
            "min_width": null,
            "object_fit": null,
            "object_position": null,
            "order": null,
            "overflow": null,
            "overflow_x": null,
            "overflow_y": null,
            "padding": null,
            "right": null,
            "top": null,
            "visibility": null,
            "width": null
          }
        },
        "fc9c8ef144e74809b53f86619e6e26a0": {
          "model_module": "@jupyter-widgets/base",
          "model_name": "LayoutModel",
          "model_module_version": "1.2.0",
          "state": {
            "_model_module": "@jupyter-widgets/base",
            "_model_module_version": "1.2.0",
            "_model_name": "LayoutModel",
            "_view_count": null,
            "_view_module": "@jupyter-widgets/base",
            "_view_module_version": "1.2.0",
            "_view_name": "LayoutView",
            "align_content": null,
            "align_items": null,
            "align_self": null,
            "border": null,
            "bottom": null,
            "display": null,
            "flex": null,
            "flex_flow": null,
            "grid_area": null,
            "grid_auto_columns": null,
            "grid_auto_flow": null,
            "grid_auto_rows": null,
            "grid_column": null,
            "grid_gap": null,
            "grid_row": null,
            "grid_template_areas": null,
            "grid_template_columns": null,
            "grid_template_rows": null,
            "height": null,
            "justify_content": null,
            "justify_items": null,
            "left": null,
            "margin": null,
            "max_height": null,
            "max_width": null,
            "min_height": null,
            "min_width": null,
            "object_fit": null,
            "object_position": null,
            "order": null,
            "overflow": null,
            "overflow_x": null,
            "overflow_y": null,
            "padding": null,
            "right": null,
            "top": null,
            "visibility": null,
            "width": null
          }
        },
        "56e8cc223607442e80cfbaf6e466305e": {
          "model_module": "@jupyter-widgets/controls",
          "model_name": "DescriptionStyleModel",
          "model_module_version": "1.5.0",
          "state": {
            "_model_module": "@jupyter-widgets/controls",
            "_model_module_version": "1.5.0",
            "_model_name": "DescriptionStyleModel",
            "_view_count": null,
            "_view_module": "@jupyter-widgets/base",
            "_view_module_version": "1.2.0",
            "_view_name": "StyleView",
            "description_width": ""
          }
        },
        "0c0cac4f73534884933c4fd5ec4d5cae": {
          "model_module": "@jupyter-widgets/base",
          "model_name": "LayoutModel",
          "model_module_version": "1.2.0",
          "state": {
            "_model_module": "@jupyter-widgets/base",
            "_model_module_version": "1.2.0",
            "_model_name": "LayoutModel",
            "_view_count": null,
            "_view_module": "@jupyter-widgets/base",
            "_view_module_version": "1.2.0",
            "_view_name": "LayoutView",
            "align_content": null,
            "align_items": null,
            "align_self": null,
            "border": null,
            "bottom": null,
            "display": null,
            "flex": null,
            "flex_flow": null,
            "grid_area": null,
            "grid_auto_columns": null,
            "grid_auto_flow": null,
            "grid_auto_rows": null,
            "grid_column": null,
            "grid_gap": null,
            "grid_row": null,
            "grid_template_areas": null,
            "grid_template_columns": null,
            "grid_template_rows": null,
            "height": null,
            "justify_content": null,
            "justify_items": null,
            "left": null,
            "margin": null,
            "max_height": null,
            "max_width": null,
            "min_height": null,
            "min_width": null,
            "object_fit": null,
            "object_position": null,
            "order": null,
            "overflow": null,
            "overflow_x": null,
            "overflow_y": null,
            "padding": null,
            "right": null,
            "top": null,
            "visibility": null,
            "width": null
          }
        },
        "e648aa3608514ffea958c78374bd6584": {
          "model_module": "@jupyter-widgets/controls",
          "model_name": "ProgressStyleModel",
          "model_module_version": "1.5.0",
          "state": {
            "_model_module": "@jupyter-widgets/controls",
            "_model_module_version": "1.5.0",
            "_model_name": "ProgressStyleModel",
            "_view_count": null,
            "_view_module": "@jupyter-widgets/base",
            "_view_module_version": "1.2.0",
            "_view_name": "StyleView",
            "bar_color": null,
            "description_width": ""
          }
        },
        "440dcdc7525947de8513d5cd2691b348": {
          "model_module": "@jupyter-widgets/base",
          "model_name": "LayoutModel",
          "model_module_version": "1.2.0",
          "state": {
            "_model_module": "@jupyter-widgets/base",
            "_model_module_version": "1.2.0",
            "_model_name": "LayoutModel",
            "_view_count": null,
            "_view_module": "@jupyter-widgets/base",
            "_view_module_version": "1.2.0",
            "_view_name": "LayoutView",
            "align_content": null,
            "align_items": null,
            "align_self": null,
            "border": null,
            "bottom": null,
            "display": null,
            "flex": null,
            "flex_flow": null,
            "grid_area": null,
            "grid_auto_columns": null,
            "grid_auto_flow": null,
            "grid_auto_rows": null,
            "grid_column": null,
            "grid_gap": null,
            "grid_row": null,
            "grid_template_areas": null,
            "grid_template_columns": null,
            "grid_template_rows": null,
            "height": null,
            "justify_content": null,
            "justify_items": null,
            "left": null,
            "margin": null,
            "max_height": null,
            "max_width": null,
            "min_height": null,
            "min_width": null,
            "object_fit": null,
            "object_position": null,
            "order": null,
            "overflow": null,
            "overflow_x": null,
            "overflow_y": null,
            "padding": null,
            "right": null,
            "top": null,
            "visibility": null,
            "width": null
          }
        },
        "8664fcc4a1ca42acb0f279c3bf6ebf7d": {
          "model_module": "@jupyter-widgets/controls",
          "model_name": "DescriptionStyleModel",
          "model_module_version": "1.5.0",
          "state": {
            "_model_module": "@jupyter-widgets/controls",
            "_model_module_version": "1.5.0",
            "_model_name": "DescriptionStyleModel",
            "_view_count": null,
            "_view_module": "@jupyter-widgets/base",
            "_view_module_version": "1.2.0",
            "_view_name": "StyleView",
            "description_width": ""
          }
        }
      }
    }
  },
  "cells": [
    {
      "cell_type": "markdown",
      "metadata": {
        "id": "view-in-github",
        "colab_type": "text"
      },
      "source": [
        "<a href=\"https://colab.research.google.com/github/subbu-art/temp-node/blob/main/QnA_model.ipynb\" target=\"_parent\"><img src=\"https://colab.research.google.com/assets/colab-badge.svg\" alt=\"Open In Colab\"/></a>"
      ]
    },
    {
      "cell_type": "code",
      "execution_count": null,
      "metadata": {
        "id": "uNTTo30Ky-QL"
      },
      "outputs": [],
      "source": [
        "#Import Libraries\n",
        "import json\n",
        "import torch\n",
        "from torch.utils.data import Dataset,DataLoader\n",
        "import torch\n",
        "import torch.nn as nn\n",
        "from transformers import RobertaForQuestionAnswering, AdamW\n",
        "from torch.utils.tensorboard import SummaryWriter\n",
        "from torch.utils.data import DataLoader\n",
        "from sklearn.metrics import accuracy_score\n",
        "from transformers import AdamW\n",
        "from torch.utils.tensorboard import SummaryWriter\n",
        "from sklearn.metrics import accuracy_score\n",
        "from transformers import RobertaTokenizerFast\n",
        "import torch\n",
        "import matplotlib.pyplot as plt\n",
        "from collections import Counter\n",
        "from transformers import RobertaPreTrainedModel, RobertaModel"
      ]
    },
    {
      "cell_type": "markdown",
      "source": [
        "# Tokenizing the data - RoBERTa"
      ],
      "metadata": {
        "id": "-zZ3KTxKYcqL"
      }
    },
    {
      "cell_type": "code",
      "source": [
        "tokenizer = RobertaTokenizerFast.from_pretrained('roberta-base')\n",
        "\n",
        "def tokenize_data(context, question, answer, answer_start, is_impossible, max_length=512):\n",
        "    encoding = tokenizer.encode_plus(\n",
        "        question, context, add_special_tokens=True, max_length=max_length,\n",
        "        truncation=True, padding='max_length', return_tensors='pt'\n",
        "    )\n",
        "    input_ids = encoding['input_ids'].squeeze(0)\n",
        "    attention_mask = encoding['attention_mask'].squeeze(0)\n",
        "\n",
        "    start_scores = torch.zeros(len(input_ids), dtype=torch.long)\n",
        "    end_scores = torch.zeros(len(input_ids), dtype=torch.long)\n",
        "\n",
        "    if not is_impossible:\n",
        "        answer_end = answer_start + len(answer)\n",
        "\n",
        "        context_encoding = tokenizer(\n",
        "            context, add_special_tokens=True, return_offsets_mapping=True,\n",
        "            max_length=max_length, truncation=True\n",
        "        )\n",
        "        offset_mapping = context_encoding['offset_mapping']\n",
        "\n",
        "        start_token_index = None\n",
        "        end_token_index = None\n",
        "        for index, (start, end) in enumerate(offset_mapping):\n",
        "            if start <= answer_start < end:\n",
        "                start_token_index = index\n",
        "            if start < answer_end <= end:\n",
        "                end_token_index = index\n",
        "                break\n",
        "\n",
        "        if start_token_index is not None and end_token_index is not None:\n",
        "            start_scores[start_token_index] = 1\n",
        "            end_scores[end_token_index] = 1\n",
        "        else:\n",
        "            # Handling the case when the answer is not found in the tokenized context\n",
        "            print(f\"Answer not found in tokenized context: {answer}\")\n",
        "\n",
        "        # Handling answers that are not exact substrings\n",
        "        if answer.lower() not in context.lower():\n",
        "            print(f\"Answer is not an exact substring: {answer}\")\n",
        "\n",
        "    return input_ids, attention_mask, start_scores, end_scores"
      ],
      "metadata": {
        "colab": {
          "base_uri": "https://localhost:8080/",
          "height": 336,
          "referenced_widgets": [
            "bfcdf1625fd64cab8700b6ed0daf0894",
            "2437059c52ca4ab1bc76e8312e71dfc2",
            "3fc605c77f6d4997a5d82f5857a4b19f",
            "62eae6e72b644f1ea1c8ba165c8998dd",
            "5cd060e69cd64db8b98f8dce2b27e03e",
            "fa8977d5d5654076b0cda878f8a9be50",
            "cddb0aae80764dc8a0f8c51799ffb9ea",
            "72fe1a0fb08d4f8caf22a509b3e5077b",
            "0267001a8c714180b20ff7e75f227a3e",
            "bdfe6a24a9e84feaa613fbfa6820197b",
            "659fc3fe55364ad38dcab9483723cbc9",
            "64dd0bb3f8bc47db8c21963cec9fb3fd",
            "06fc69b6ccef464d96a3700f7efe2a58",
            "02498c7112b34c0ea412950acb150f38",
            "fd6c6a87a144451e93a662d15163290d",
            "1fd85a92896e40b1959b180d327520d0",
            "272bc1e9cc1946f994759f49f0ec7702",
            "f396bb87e8354c569580cf4370201afb",
            "ee6344bd02b4450497a5026b6cf5c4fe",
            "38efc1d2251549e7bfb61f28c9c521e1",
            "e348d71bc0a04500baa8784ac4f77694",
            "cf35e9da700c4227820fc7a53fd1aa78",
            "ec11dcdf0685445b88e5267b94b81352",
            "c70e6a156be94bf896a8ca143ce328f9",
            "616027c69bd1471093e70a485b36285f",
            "ab0fe3f803374844beb49600f5e6e4b9",
            "a9eac945042e4311b3b43f6174de6e91",
            "4fdbd96616d2451ea0cf75d06cb67bef",
            "f9a649c4124f4f2c87620677bfd40566",
            "8eaf19f90bc64680b1f75b1aeb957dfa",
            "eab34c353cbe408a966449c50b5902e1",
            "33e19316ae1b4b6d8f3fe7a2676e0e71",
            "18adb679b4a446a9b4c0ec201ad1d8ca",
            "74bb2a1125554bc58474d343387851e5",
            "38f5933b3cb243c8aea5a1fd0dcd0eb3",
            "861c41870f5547c2addef6df93232bc7",
            "2d6d4115f206466fbc89faa224b1419c",
            "b85b148c064e4bf7ba825d2f7bf1bc75",
            "07d4890fa1634da2bcadce5957606207",
            "6559777d31184ce080210311635bde06",
            "07f1b018b362452d8a556da7f5b558d9",
            "8f09d9efb51c42e8856c2872cf8e7d3f",
            "dd557ac39b2f466d8fc21d956a357242",
            "f8cd5cd798be464d84739eb8f1016579",
            "a4429b5c6d304b26b62d81398d73e9b8",
            "a350a1f95b044611bbfff88561ce88b3",
            "6e1a89cd09e840138db0652548ad436d",
            "9dc1b673fbb44852bde80a3b6426799e",
            "a2d4a868ec4f4948a4b443f2bcace06b",
            "fc9c8ef144e74809b53f86619e6e26a0",
            "56e8cc223607442e80cfbaf6e466305e",
            "0c0cac4f73534884933c4fd5ec4d5cae",
            "e648aa3608514ffea958c78374bd6584",
            "440dcdc7525947de8513d5cd2691b348",
            "8664fcc4a1ca42acb0f279c3bf6ebf7d"
          ]
        },
        "id": "xTA2WlX-9HAT",
        "outputId": "d6f7fb8b-04af-42be-9ac2-5710593f74f3"
      },
      "execution_count": null,
      "outputs": [
        {
          "output_type": "stream",
          "name": "stderr",
          "text": [
            "/usr/local/lib/python3.10/dist-packages/huggingface_hub/utils/_token.py:89: UserWarning: \n",
            "The secret `HF_TOKEN` does not exist in your Colab secrets.\n",
            "To authenticate with the Hugging Face Hub, create a token in your settings tab (https://huggingface.co/settings/tokens), set it as secret in your Google Colab and restart your session.\n",
            "You will be able to reuse this secret in all of your notebooks.\n",
            "Please note that authentication is recommended but still optional to access public models or datasets.\n",
            "  warnings.warn(\n"
          ]
        },
        {
          "output_type": "display_data",
          "data": {
            "text/plain": [
              "tokenizer_config.json:   0%|          | 0.00/25.0 [00:00<?, ?B/s]"
            ],
            "application/vnd.jupyter.widget-view+json": {
              "version_major": 2,
              "version_minor": 0,
              "model_id": "bfcdf1625fd64cab8700b6ed0daf0894"
            }
          },
          "metadata": {}
        },
        {
          "output_type": "display_data",
          "data": {
            "text/plain": [
              "vocab.json:   0%|          | 0.00/899k [00:00<?, ?B/s]"
            ],
            "application/vnd.jupyter.widget-view+json": {
              "version_major": 2,
              "version_minor": 0,
              "model_id": "64dd0bb3f8bc47db8c21963cec9fb3fd"
            }
          },
          "metadata": {}
        },
        {
          "output_type": "display_data",
          "data": {
            "text/plain": [
              "merges.txt:   0%|          | 0.00/456k [00:00<?, ?B/s]"
            ],
            "application/vnd.jupyter.widget-view+json": {
              "version_major": 2,
              "version_minor": 0,
              "model_id": "ec11dcdf0685445b88e5267b94b81352"
            }
          },
          "metadata": {}
        },
        {
          "output_type": "display_data",
          "data": {
            "text/plain": [
              "tokenizer.json:   0%|          | 0.00/1.36M [00:00<?, ?B/s]"
            ],
            "application/vnd.jupyter.widget-view+json": {
              "version_major": 2,
              "version_minor": 0,
              "model_id": "74bb2a1125554bc58474d343387851e5"
            }
          },
          "metadata": {}
        },
        {
          "output_type": "stream",
          "name": "stderr",
          "text": [
            "/usr/local/lib/python3.10/dist-packages/huggingface_hub/file_download.py:1132: FutureWarning: `resume_download` is deprecated and will be removed in version 1.0.0. Downloads always resume when possible. If you want to force a new download, use `force_download=True`.\n",
            "  warnings.warn(\n"
          ]
        },
        {
          "output_type": "display_data",
          "data": {
            "text/plain": [
              "config.json:   0%|          | 0.00/481 [00:00<?, ?B/s]"
            ],
            "application/vnd.jupyter.widget-view+json": {
              "version_major": 2,
              "version_minor": 0,
              "model_id": "a4429b5c6d304b26b62d81398d73e9b8"
            }
          },
          "metadata": {}
        }
      ]
    },
    {
      "cell_type": "markdown",
      "source": [
        "# Data Ingestion"
      ],
      "metadata": {
        "id": "0KReqzK8Yy0S"
      }
    },
    {
      "cell_type": "code",
      "source": [
        "#Loading Data\n",
        "def get_data(filepath):\n",
        "    with open(filepath, 'r') as file:\n",
        "        data = json.load(file)\n",
        "    return data"
      ],
      "metadata": {
        "id": "CUeT_yek5YQd"
      },
      "execution_count": 1,
      "outputs": []
    },
    {
      "cell_type": "markdown",
      "source": [
        "# Data Processing"
      ],
      "metadata": {
        "id": "3vs0Ph2-Y5T3"
      }
    },
    {
      "cell_type": "code",
      "source": [
        "# Extracting feild from the input files\n",
        "def data_prep(data, is_eval=False):\n",
        "    processed_data = []\n",
        "    num_contexts = 0\n",
        "    num_questions = 0\n",
        "    is_impossible_counts = Counter()\n",
        "    #looping over to get Questions, Context, Answers\n",
        "    for item in data['data']:\n",
        "        for paragraph in item['paragraphs']:\n",
        "            context = paragraph['context']\n",
        "            num_contexts += 1\n",
        "            for qa in paragraph['qas']:\n",
        "                question = qa['question']\n",
        "                is_impossible = qa['is_impossible']\n",
        "                num_questions += 1\n",
        "                is_impossible_counts[is_impossible] += 1\n",
        "                #Ignoring qna that are impossible to retrieve\n",
        "                if not is_impossible:\n",
        "                    if is_eval:\n",
        "                        for answer in qa['answers']:\n",
        "                            answer_text = answer['text']\n",
        "                            answer_start = answer['answer_start']\n",
        "                            processed_data.append(tokenize_data(context, question, answer_text, answer_start, is_impossible))\n",
        "                    else:\n",
        "                        answer_text = qa['answers'][0]['text']\n",
        "                        answer_start = qa['answers'][0]['answer_start']\n",
        "                        processed_data.append(tokenize_data(context, question, answer_text, answer_start, is_impossible))\n",
        "                else:\n",
        "                    processed_data.append(tokenize_data(context, question, '', 0, is_impossible))\n",
        "\n",
        "    # Visualizing Data\n",
        "    visualize_statistics(num_contexts, num_questions, is_impossible_counts)\n",
        "\n",
        "    return processed_data\n"
      ],
      "metadata": {
        "id": "ebr2pXMn5cJl"
      },
      "execution_count": null,
      "outputs": []
    },
    {
      "cell_type": "markdown",
      "source": [
        "# Data Insights"
      ],
      "metadata": {
        "id": "GptBfk4oZA4_"
      }
    },
    {
      "cell_type": "code",
      "source": [
        "#Vizualizing the data extracted\n",
        "def visualize_statistics(num_contexts, num_questions, is_impossible_counts):\n",
        "    fig, ax = plt.subplots(1, 2, figsize=(14, 6))\n",
        "\n",
        "    # Contexts and Questions Count\n",
        "    ax[0].bar(['Contexts', 'Questions'], [num_contexts, num_questions], color=['blue', 'green'])\n",
        "    ax[0].set_title('Number of Contexts and Questions')\n",
        "    ax[0].set_ylabel('Count')\n",
        "\n",
        "    # Is Impossible Count\n",
        "    ax[1].bar(is_impossible_counts.keys(), is_impossible_counts.values(), color=['red', 'blue'])\n",
        "    ax[1].set_xticks([False, True])\n",
        "    ax[1].set_xticklabels(['Possible', 'Impossible'])\n",
        "    ax[1].set_title('Number of Possible and Impossible Questions')\n",
        "    ax[1].set_ylabel('Count')\n",
        "\n",
        "    plt.tight_layout()\n",
        "    plt.show()\n"
      ],
      "metadata": {
        "id": "mcoyzRk16_gN"
      },
      "execution_count": null,
      "outputs": []
    },
    {
      "cell_type": "code",
      "source": [
        "train_file = 'train.json'\n",
        "train_data = get_data(train_file)\n",
        "train_processed = data_prep(train_data)"
      ],
      "metadata": {
        "colab": {
          "base_uri": "https://localhost:8080/",
          "height": 452
        },
        "id": "FuCsQ_qn4cxv",
        "outputId": "e272fd5a-4d0a-4eec-baf2-d884dca04ba6"
      },
      "execution_count": null,
      "outputs": [
        {
          "output_type": "stream",
          "name": "stdout",
          "text": [
            "Answer not found in tokenized context: Skyfall\n"
          ]
        },
        {
          "output_type": "display_data",
          "data": {
            "text/plain": [
              "<Figure size 1400x600 with 2 Axes>"
            ],
            "image/png": "[encoded data removed]"
          },
          "metadata": {}
        }
      ]
    },
    {
      "cell_type": "code",
      "source": [
        "eval_file = 'test.json'\n",
        "eval_data = get_data(eval_file)\n",
        "eval_processed = data_prep(eval_data, is_eval=True)"
      ],
      "metadata": {
        "colab": {
          "base_uri": "https://localhost:8080/",
          "height": 591
        },
        "id": "4KXE0eb69ldW",
        "outputId": "bf97abbc-2fab-416f-861a-544b9e89df5d"
      },
      "execution_count": null,
      "outputs": [
        {
          "output_type": "stream",
          "name": "stdout",
          "text": [
            "Answer not found in tokenized context: motorcycles or mopeds pulling trailers\n",
            "Answer not found in tokenized context: motorcycles or mopeds pulling trailers\n",
            "Answer not found in tokenized context: motorcycles or mopeds pulling trailers\n",
            "Answer not found in tokenized context: Hendrix v Employee\n",
            "Answer not found in tokenized context: Hendrix v Employee Insurance Institute\n",
            "Answer not found in tokenized context: Hendrix v Employee Insurance Institute\n",
            "Answer not found in tokenized context: between 3 and 14 hours a week\n",
            "Answer not found in tokenized context: 3 and 14 hours a week\n",
            "Answer not found in tokenized context: between 3 and 14 hours a week\n"
          ]
        },
        {
          "output_type": "display_data",
          "data": {
            "text/plain": [
              "<Figure size 1400x600 with 2 Axes>"
            ],
            "image/png": "[encoded data removed]"
          },
          "metadata": {}
        }
      ]
    },
    {
      "cell_type": "markdown",
      "source": [
        "# Creating Dataset and Dataloaders"
      ],
      "metadata": {
        "id": "p9CM4z5HZHdX"
      }
    },
    {
      "cell_type": "code",
      "source": [
        "#Creating dataset\n",
        "class QADataset(Dataset):\n",
        "    def __init__(self, data):\n",
        "        self.data = data\n",
        "\n",
        "    def __len__(self):\n",
        "        return len(self.data)\n",
        "\n",
        "    def __getitem__(self, index):\n",
        "        input_ids, attention_mask, start_scores, end_scores = self.data[index]\n",
        "        start_scores = start_scores.float()\n",
        "        end_scores = end_scores.float()\n",
        "        return {\n",
        "            'input_ids': input_ids,\n",
        "            'attention_mask': attention_mask,\n",
        "            'start_scores': start_scores,\n",
        "            'end_scores': end_scores\n",
        "        }"
      ],
      "metadata": {
        "id": "U6g5IvGqGGAG"
      },
      "execution_count": null,
      "outputs": []
    },
    {
      "cell_type": "code",
      "source": [
        "train_dataset = QADataset(train_processed)\n",
        "eval_dataset = QADataset(eval_processed)\n",
        "#Creating dataloaders for train and test data to train and eval in batches\n",
        "train_loader = DataLoader(train_dataset, batch_size=8, shuffle=True)\n",
        "eval_loader = DataLoader(eval_dataset, batch_size=8, shuffle=False)\n",
        "\n",
        "train_loader"
      ],
      "metadata": {
        "colab": {
          "base_uri": "https://localhost:8080/"
        },
        "id": "UtdHNXqvGNGl",
        "outputId": "aa667680-9254-48b8-84c6-64ab49793863"
      },
      "execution_count": null,
      "outputs": [
        {
          "output_type": "execute_result",
          "data": {
            "text/plain": [
              "<torch.utils.data.dataloader.DataLoader at 0x7ba3c8754400>"
            ]
          },
          "metadata": {},
          "execution_count": 9
        }
      ]
    },
    {
      "cell_type": "markdown",
      "source": [
        "# Model Architecture - RoBERTa"
      ],
      "metadata": {
        "id": "DFSz21LjZeGG"
      }
    },
    {
      "cell_type": "markdown",
      "source": [],
      "metadata": {
        "id": "QSzQbDhpZP4Y"
      }
    },
    {
      "cell_type": "code",
      "source": [
        "#Model Architecture  for RoBERTa\n",
        "class QAModel(RobertaPreTrainedModel):\n",
        "    def __init__(self, config):\n",
        "        super().__init__(config)\n",
        "        self.roberta = RobertaModel(config)\n",
        "        self.qa_outputs = nn.Linear(config.hidden_size, 2)\n",
        "\n",
        "    def forward(self, input_ids, attention_mask=None):\n",
        "        outputs = self.roberta(input_ids, attention_mask=attention_mask)\n",
        "        sequence_output = outputs[0]\n",
        "        logits = self.qa_outputs(sequence_output)\n",
        "        start_logits, end_logits = logits.split(1, dim=-1)\n",
        "        start_logits = start_logits.squeeze(-1).contiguous()\n",
        "        end_logits = end_logits.squeeze(-1).contiguous()\n",
        "        return start_logits, end_logits"
      ],
      "metadata": {
        "id": "kVd7lJlR95bt"
      },
      "execution_count": null,
      "outputs": []
    },
    {
      "cell_type": "markdown",
      "source": [
        "## Training the Model"
      ],
      "metadata": {
        "id": "lLXtHpbiZtU-"
      }
    },
    {
      "cell_type": "code",
      "source": [
        "# Training the model\n",
        "def train_model(model, train_loader, eval_loader, epochs=6, learning_rate=2e-5):\n",
        "    device = torch.device('cuda' if torch.cuda.is_available() else 'cpu')\n",
        "    model.to(device)\n",
        "    optimizer = AdamW(model.parameters(), lr=learning_rate)\n",
        "\n",
        "    # Intializing Tenorboard Writer\n",
        "    writer = SummaryWriter()\n",
        "    #keeping track of losses\n",
        "    train_losses = []\n",
        "    eval_losses = []\n",
        "\n",
        "    for epoch in range(epochs):\n",
        "        model.train()\n",
        "        total_loss = 0\n",
        "        for batch in train_loader:\n",
        "            input_ids = batch['input_ids'].to(device)\n",
        "            attention_mask = batch['attention_mask'].to(device)\n",
        "            start_scores = batch['start_scores'].to(device)\n",
        "            end_scores = batch['end_scores'].to(device)\n",
        "\n",
        "            optimizer.zero_grad()\n",
        "            start_logits, end_logits = model(input_ids, attention_mask)\n",
        "            loss = loss_fn(start_logits, end_logits, start_scores, end_scores)\n",
        "            total_loss += loss.item()\n",
        "            loss.backward()\n",
        "            optimizer.step()\n",
        "\n",
        "        avg_train_loss = total_loss / len(train_loader)\n",
        "        train_losses.append(avg_train_loss)\n",
        "        print(f\"Epoch {epoch+1}/{epochs} - Average training loss: {avg_train_loss:.4f}\")\n",
        "\n",
        "        # Evaluating the model with test data\n",
        "        eval_loss, start_acc, end_acc = evaluate_model(model, eval_loader, epoch)\n",
        "        eval_losses.append(eval_loss)\n",
        "\n",
        "        # Logging losses to TensorBoard\n",
        "        writer.add_scalar('Training Loss', avg_train_loss, epoch)\n",
        "        writer.add_scalar('Evaluation Loss', eval_loss, epoch)\n",
        "\n",
        "        # Saving the model checkpoint for every epoch\n",
        "        torch.save(model.state_dict(), 'model.pth')\n",
        "\n",
        "    writer.close()\n",
        "    return train_losses, eval_losses"
      ],
      "metadata": {
        "id": "3HzysVWm3GHb"
      },
      "execution_count": null,
      "outputs": []
    },
    {
      "cell_type": "markdown",
      "source": [
        "## Loss Function - Cross Entropy"
      ],
      "metadata": {
        "id": "jTtYVPpjZw3n"
      }
    },
    {
      "cell_type": "code",
      "source": [
        "# Loss function\n",
        "def loss_fn(start_logits, end_logits, start_positions, end_positions):\n",
        "    start_loss = torch.nn.functional.cross_entropy(start_logits, start_positions)\n",
        "    end_loss = torch.nn.functional.cross_entropy(end_logits, end_positions)\n",
        "    total_loss = (start_loss + end_loss) / 2\n",
        "    return total_loss"
      ],
      "metadata": {
        "id": "aNKc0zK25SRN"
      },
      "execution_count": null,
      "outputs": []
    },
    {
      "cell_type": "markdown",
      "source": [
        "## Evaluating the model"
      ],
      "metadata": {
        "id": "fyHz4A1gZ2S_"
      }
    },
    {
      "cell_type": "code",
      "source": [
        "#eval\n",
        "def evaluate_model(model, eval_loader, epoch):\n",
        "    device = torch.device('cuda' if torch.cuda.is_available() else 'cpu')\n",
        "    model.eval()\n",
        "    eval_loss = 0\n",
        "    start_preds = []\n",
        "    end_preds = []\n",
        "    start_labels = []\n",
        "    end_labels = []\n",
        "    writer = SummaryWriter()\n",
        "    with torch.no_grad():\n",
        "        for batch in eval_loader:\n",
        "            input_ids = batch['input_ids'].to(device)\n",
        "            attention_mask = batch['attention_mask'].to(device)\n",
        "            start_positions = batch['start_scores'].to(device)\n",
        "            end_positions = batch['end_scores'].to(device)\n",
        "\n",
        "            start_logits, end_logits = model(input_ids, attention_mask)\n",
        "            loss = loss_fn(start_logits, end_logits, start_positions, end_positions)\n",
        "            eval_loss += loss.item()\n",
        "\n",
        "            start_preds.extend(torch.argmax(start_logits, dim=1).tolist())\n",
        "            end_preds.extend(torch.argmax(end_logits, dim=1).tolist())\n",
        "            start_labels.extend(torch.argmax(start_positions, dim=1).tolist())\n",
        "            end_labels.extend(torch.argmax(end_positions, dim=1).tolist())\n",
        "\n",
        "    eval_loss /= len(eval_loader)\n",
        "    start_acc = accuracy_score(start_labels, start_preds)\n",
        "    end_acc = accuracy_score(end_labels, end_preds)\n",
        "\n",
        "    print(f\"Evaluation - Average loss: {eval_loss:.4f}\")\n",
        "    print(f\"Start Accuracy: {start_acc:.4f}\")\n",
        "    print(f\"End Accuracy: {end_acc:.4f}\")\n",
        "\n",
        "    # Logging evaluation metrics to TensorBoard\n",
        "    writer.add_scalar('Start Accuracy', start_acc, epoch)\n",
        "    writer.add_scalar('End Accuracy', end_acc, epoch)\n",
        "\n",
        "    return eval_loss, start_acc, end_acc"
      ],
      "metadata": {
        "id": "Ay3Oj_sg5TE9"
      },
      "execution_count": null,
      "outputs": []
    },
    {
      "cell_type": "markdown",
      "source": [
        "### Results"
      ],
      "metadata": {
        "id": "GtlSb0tQak0W"
      }
    },
    {
      "cell_type": "code",
      "source": [
        "model = QAModel.from_pretrained('roberta-base')\n",
        "train_model(model, train_loader, eval_loader)"
      ],
      "metadata": {
        "colab": {
          "base_uri": "https://localhost:8080/"
        },
        "id": "L9O_n1fM5_ot",
        "outputId": "097695b3-70cb-41ab-d3e2-d0bde2e11b7d"
      },
      "execution_count": null,
      "outputs": [
        {
          "output_type": "stream",
          "name": "stderr",
          "text": [
            "Some weights of QAModel were not initialized from the model checkpoint at roberta-base and are newly initialized: ['qa_outputs.bias', 'qa_outputs.weight', 'roberta.pooler.dense.bias', 'roberta.pooler.dense.weight']\n",
            "You should probably TRAIN this model on a down-stream task to be able to use it for predictions and inference.\n",
            "/usr/local/lib/python3.10/dist-packages/transformers/optimization.py:588: FutureWarning: This implementation of AdamW is deprecated and will be removed in a future version. Use the PyTorch implementation torch.optim.AdamW instead, or set `no_deprecation_warning=True` to disable this warning\n",
            "  warnings.warn(\n"
          ]
        },
        {
          "output_type": "stream",
          "name": "stdout",
          "text": [
            "Epoch 1/6 - Average training loss: 3.0478\n",
            "Evaluation - Average loss: 2.5340\n",
            "Start Accuracy: 0.0917\n",
            "End Accuracy: 0.0870\n",
            "Epoch 2/6 - Average training loss: 2.2484\n",
            "Evaluation - Average loss: 2.3374\n",
            "Start Accuracy: 0.1216\n",
            "End Accuracy: 0.1253\n",
            "Epoch 3/6 - Average training loss: 1.7871\n",
            "Evaluation - Average loss: 2.1527\n",
            "Start Accuracy: 0.1941\n",
            "End Accuracy: 0.1920\n",
            "Epoch 4/6 - Average training loss: 1.4644\n",
            "Evaluation - Average loss: 2.0888\n",
            "Start Accuracy: 0.2295\n",
            "End Accuracy: 0.1919\n",
            "Epoch 5/6 - Average training loss: 1.2318\n",
            "Evaluation - Average loss: 1.9712\n",
            "Start Accuracy: 0.2908\n",
            "End Accuracy: 0.2504\n",
            "Epoch 6/6 - Average training loss: 1.0641\n",
            "Evaluation - Average loss: 2.0126\n",
            "Start Accuracy: 0.3181\n",
            "End Accuracy: 0.3205\n"
          ]
        },
        {
          "output_type": "execute_result",
          "data": {
            "text/plain": [
              "([3.0477944980788703,\n",
              "  2.2484163015094025,\n",
              "  1.7871013192546288,\n",
              "  1.4643890003297502,\n",
              "  1.2318121027275426,\n",
              "  1.0641406558799429],\n",
              " [2.5340142384611606,\n",
              "  2.337409233525081,\n",
              "  2.1527363171541616,\n",
              "  2.0888455835512922,\n",
              "  1.9712404712625948,\n",
              "  2.0126448799109378])"
            ]
          },
          "metadata": {},
          "execution_count": 26
        }
      ]
    },
    {
      "cell_type": "markdown",
      "source": [
        "## Loss and Accuracy curves"
      ],
      "metadata": {
        "id": "D4h_ZcH2Z9f3"
      }
    },
    {
      "cell_type": "code",
      "source": [
        "def plot_metrics(train_losses, eval_losses, start_accuracies, end_accuracies):\n",
        "    epochs = range(1, len(train_losses) + 1)\n",
        "\n",
        "    # Plotting losses\n",
        "    plt.figure(figsize=(12, 4))\n",
        "    plt.subplot(1, 2, 1)\n",
        "    plt.plot(epochs, train_losses, label='Training Loss')\n",
        "    plt.plot(epochs, eval_losses, label='Evaluation Loss')\n",
        "    plt.xlabel('Epoch')\n",
        "    plt.ylabel('Loss')\n",
        "    plt.title('Training and Evaluation Losses')\n",
        "    plt.legend()\n",
        "    plt.grid(True)\n",
        "\n",
        "    # Plotting accuracies\n",
        "    plt.subplot(1, 2, 2)\n",
        "    plt.plot(epochs, start_accuracies, label='Start Accuracy')\n",
        "    plt.plot(epochs, end_accuracies, label='End Accuracy')\n",
        "    plt.xlabel('Epoch')\n",
        "    plt.ylabel('Accuracy')\n",
        "    plt.title('Start and End Accuracies')\n",
        "    plt.legend()\n",
        "    plt.grid(True)\n",
        "\n",
        "    plt.tight_layout()\n",
        "    plt.show()\n",
        "\n",
        "plot_metrics(train_losses, eval_losses, start_accuracies, end_accuracies)"
      ],
      "metadata": {
        "colab": {
          "base_uri": "https://localhost:8080/",
          "height": 340
        },
        "id": "LA7eqrJEdTI7",
        "outputId": "fb70d7a7-595a-4b85-cc50-049ca85b6b31"
      },
      "execution_count": null,
      "outputs": [
        {
          "output_type": "display_data",
          "data": {
            "text/plain": [
              "<Figure size 1200x400 with 2 Axes>"
            ],
            "image/png": "[encoded data removed]"
          },
          "metadata": {}
        }
      ]
    },
    {
      "cell_type": "markdown",
      "source": [
        "## Infrencing"
      ],
      "metadata": {
        "id": "xBrmN_yqaD4s"
      }
    },
    {
      "cell_type": "code",
      "source": [
        "def inference(model, tokenizer, question, context):\n",
        "    # Tokenizing the input question and context\n",
        "    encoded_inputs = tokenizer(question, context, max_length=512, padding='max_length', truncation=True, return_tensors='pt')\n",
        "    input_ids = encoded_inputs['input_ids']\n",
        "    attention_mask = encoded_inputs['attention_mask']\n",
        "    device = next(model.parameters()).device\n",
        "    input_ids = input_ids.to(device)\n",
        "    attention_mask = attention_mask.to(device)\n",
        "\n",
        "    # Setting the model to evaluation mode\n",
        "    model.eval()\n",
        "\n",
        "    with torch.no_grad():\n",
        "        # Forward pass through the model\n",
        "        outputs = model(input_ids, attention_mask=attention_mask)\n",
        "        start_logits, end_logits = outputs\n",
        "\n",
        "        # Finding the starting and ending tokens with the highest logits\n",
        "        start_index = torch.argmax(start_logits)\n",
        "        end_index = torch.argmax(end_logits)\n",
        "\n",
        "        # Converting the token indices to the actual answer span\n",
        "        tokens = tokenizer.convert_ids_to_tokens(input_ids[0])\n",
        "        answer_tokens = tokens[start_index : end_index + 1]\n",
        "        answer = tokenizer.convert_tokens_to_string(answer_tokens)\n",
        "\n",
        "    return answer\n",
        "\n",
        "# Load the trained model\n",
        "config = RobertaConfig.from_pretrained('roberta-base')\n",
        "model = QAModel(config)\n",
        "\n",
        "# Loading the trained model state dictionary\n",
        "model.load_state_dict(torch.load('model.pth'))\n",
        "model.eval()\n",
        "\n",
        "# Loading the RoBERTa tokenizer\n",
        "tokenizer = RobertaTokenizer.from_pretrained('roberta-base')\n",
        "\n",
        "# Example usage\n",
        "context = \"\"\"\n",
        "France is a country located in Western Europe. It is known for its rich history, cultural heritage, and iconic landmarks.\n",
        "The capital and largest city of France is Paris, often referred to as the \"City of Light.\" Paris is renowned for its fashion,\n",
        "cuisine, art, and architecture. Some of the famous landmarks in Paris include the Eiffel Tower, the Louvre Museum, and the\n",
        "Cathedral of Notre-Dame.\n",
        "\n",
        "France is also known for its diverse regions, each with its own unique charm and attractions. The French Riviera, located on\n",
        "the Mediterranean coast, is a popular tourist destination with its glamorous beaches and resort towns like Nice and Cannes.\n",
        "The region of Provence is famous for its picturesque lavender fields, olive groves, and charming villages.\n",
        "\n",
        "The French Alps, located in the eastern part of the country, offer stunning mountain landscapes and world-class ski resorts.\n",
        "The region of Normandy, in the north, is known for its historic sites related to World War II, such as the D-Day beaches and\n",
        "the Mont-Saint-Michel abbey.\n",
        "\n",
        "France is also renowned for its cuisine, which is considered one of the finest in the world. French gastronomy is characterized\n",
        "by its use of fresh, high-quality ingredients and its emphasis on flavor and presentation. Some famous French dishes include\n",
        "croissants, baguettes, escargots, coq au vin, and crème brûlée.\n",
        "\n",
        "Overall, France is a country with a rich cultural heritage, stunning landscapes, and a renowned cuisine, making it a popular\n",
        "destination for tourists from around the world.\n",
        "\"\"\"\n",
        "\n",
        "questions = [\n",
        "    \"What are some famous landmarks in Paris?\",\n",
        "    \"Where is the French Riviera located?\",\n",
        "    \"What is the region of Provence known for?\",\n",
        "    \"What historic sites are located in the region of Normandy?\",\n",
        "    \"Name some famous French dishes.\",\n",
        "]\n",
        "\n",
        "for question in questions:\n",
        "    answer = inference(model, tokenizer, question, context)\n",
        "    print(\"Question:\", question)\n",
        "    print(\"Answer:\", answer)\n",
        "    print()"
      ],
      "metadata": {
        "colab": {
          "base_uri": "https://localhost:8080/"
        },
        "id": "662ZqD7osTnc",
        "outputId": "854662a5-6735-4ebd-8558-c280bd605cd3"
      },
      "execution_count": null,
      "outputs": [
        {
          "output_type": "stream",
          "name": "stdout",
          "text": [
            "Question: What are some famous landmarks in Paris?\n",
            "Answer:  architecture. Some of the famous landmarks in Paris include the Eiffel Tower, the Louvre Museum,\n",
            "\n",
            "Question: Where is the French Riviera located?\n",
            "Answer:  attractions. The\n",
            "\n",
            "Question: What is the region of Provence known for?\n",
            "Answer:  Cannes. \n",
            "The region of Provence is famous for\n",
            "\n",
            "Question: What historic sites are located in the region of Normandy?\n",
            "Answer: , in the north, is known for its historic sites related to World War II, such as the D-Day beaches\n",
            "\n",
            "Question: Name some famous French dishes.\n",
            "Answer:  flavor and presentation. Some famous French dishes include \n",
            "croissants, baguettes, escargots, coq au vin\n",
            "\n"
          ]
        }
      ]
    },
    {
      "cell_type": "code",
      "source": [
        "from google.colab import files\n",
        "import shutil\n",
        "shutil.make_archive(\"runs\", \"zip\", \"runs\")\n",
        "\n",
        "# Downloading tesnorboard outputs\n",
        "files.download(\"runs.zip\")"
      ],
      "metadata": {
        "colab": {
          "base_uri": "https://localhost:8080/",
          "height": 17
        },
        "id": "ZNG1_DJltspU",
        "outputId": "19289e21-4666-4ff5-c1a9-45cff6493fb0"
      },
      "execution_count": null,
      "outputs": [
        {
          "output_type": "display_data",
          "data": {
            "text/plain": [
              "<IPython.core.display.Javascript object>"
            ],
            "application/javascript": [
              "\n",
              "    async function download(id, filename, size) {\n",
              "      if (!google.colab.kernel.accessAllowed) {\n",
              "        return;\n",
              "      }\n",
              "      const div = document.createElement('div');\n",
              "      const label = document.createElement('label');\n",
              "      label.textContent = `Downloading \"${filename}\": `;\n",
              "      div.appendChild(label);\n",
              "      const progress = document.createElement('progress');\n",
              "      progress.max = size;\n",
              "      div.appendChild(progress);\n",
              "      document.body.appendChild(div);\n",
              "\n",
              "      const buffers = [];\n",
              "      let downloaded = 0;\n",
              "\n",
              "      const channel = await google.colab.kernel.comms.open(id);\n",
              "      // Send a message to notify the kernel that we're ready.\n",
              "      channel.send({})\n",
              "\n",
              "      for await (const message of channel.messages) {\n",
              "        // Send a message to notify the kernel that we're ready.\n",
              "        channel.send({})\n",
              "        if (message.buffers) {\n",
              "          for (const buffer of message.buffers) {\n",
              "            buffers.push(buffer);\n",
              "            downloaded += buffer.byteLength;\n",
              "            progress.value = downloaded;\n",
              "          }\n",
              "        }\n",
              "      }\n",
              "      const blob = new Blob(buffers, {type: 'application/binary'});\n",
              "      const a = document.createElement('a');\n",
              "      a.href = window.URL.createObjectURL(blob);\n",
              "      a.download = filename;\n",
              "      div.appendChild(a);\n",
              "      a.click();\n",
              "      div.remove();\n",
              "    }\n",
              "  "
            ]
          },
          "metadata": {}
        },
        {
          "output_type": "display_data",
          "data": {
            "text/plain": [
              "<IPython.core.display.Javascript object>"
            ],
            "application/javascript": [
              "download(\"download_311986a8-cae8-46c0-98e3-f0a222f3f03f\", \"runs.zip\", 3849)"
            ]
          },
          "metadata": {}
        }
      ]
    },
    {
      "cell_type": "code",
      "source": [
        "from google.colab import files\n",
        "\n",
        "# Save the model\n",
        "torch.save(model.state_dict(), 'model.pth')\n",
        "\n",
        "# Downloading model file\n",
        "files.download('model.pth')"
      ],
      "metadata": {
        "colab": {
          "base_uri": "https://localhost:8080/",
          "height": 34
        },
        "id": "gH04ZJZiwa0j",
        "outputId": "a1f1df39-0469-467b-c915-c0418875d292"
      },
      "execution_count": null,
      "outputs": [
        {
          "output_type": "display_data",
          "data": {
            "text/plain": [
              "<IPython.core.display.Javascript object>"
            ],
            "application/javascript": [
              "\n",
              "    async function download(id, filename, size) {\n",
              "      if (!google.colab.kernel.accessAllowed) {\n",
              "        return;\n",
              "      }\n",
              "      const div = document.createElement('div');\n",
              "      const label = document.createElement('label');\n",
              "      label.textContent = `Downloading \"${filename}\": `;\n",
              "      div.appendChild(label);\n",
              "      const progress = document.createElement('progress');\n",
              "      progress.max = size;\n",
              "      div.appendChild(progress);\n",
              "      document.body.appendChild(div);\n",
              "\n",
              "      const buffers = [];\n",
              "      let downloaded = 0;\n",
              "\n",
              "      const channel = await google.colab.kernel.comms.open(id);\n",
              "      // Send a message to notify the kernel that we're ready.\n",
              "      channel.send({})\n",
              "\n",
              "      for await (const message of channel.messages) {\n",
              "        // Send a message to notify the kernel that we're ready.\n",
              "        channel.send({})\n",
              "        if (message.buffers) {\n",
              "          for (const buffer of message.buffers) {\n",
              "            buffers.push(buffer);\n",
              "            downloaded += buffer.byteLength;\n",
              "            progress.value = downloaded;\n",
              "          }\n",
              "        }\n",
              "      }\n",
              "      const blob = new Blob(buffers, {type: 'application/binary'});\n",
              "      const a = document.createElement('a');\n",
              "      a.href = window.URL.createObjectURL(blob);\n",
              "      a.download = filename;\n",
              "      div.appendChild(a);\n",
              "      a.click();\n",
              "      div.remove();\n",
              "    }\n",
              "  "
            ]
          },
          "metadata": {}
        },
        {
          "output_type": "display_data",
          "data": {
            "text/plain": [
              "<IPython.core.display.Javascript object>"
            ],
            "application/javascript": [
              "download(\"download_73b05602-b68f-4a52-a987-e39c2b7ab845\", \"model.pth\", 498655558)"
            ]
          },
          "metadata": {}
        }
      ]
    },
    {
      "cell_type": "code",
      "source": [
        "!pip freeze > requirements.txt"
      ],
      "metadata": {
        "id": "H3j2tKlIwwc-"
      },
      "execution_count": null,
      "outputs": []
    },
    {
      "cell_type": "code",
      "source": [
        "from google.colab import files\n",
        "files.download('requirements.txt')"
      ],
      "metadata": {
        "colab": {
          "base_uri": "https://localhost:8080/",
          "height": 17
        },
        "id": "TFQGd1M2xSQ9",
        "outputId": "2947cc5f-14d1-4f85-d6aa-9cb35b44d014"
      },
      "execution_count": null,
      "outputs": [
        {
          "output_type": "display_data",
          "data": {
            "text/plain": [
              "<IPython.core.display.Javascript object>"
            ],
            "application/javascript": [
              "\n",
              "    async function download(id, filename, size) {\n",
              "      if (!google.colab.kernel.accessAllowed) {\n",
              "        return;\n",
              "      }\n",
              "      const div = document.createElement('div');\n",
              "      const label = document.createElement('label');\n",
              "      label.textContent = `Downloading \"${filename}\": `;\n",
              "      div.appendChild(label);\n",
              "      const progress = document.createElement('progress');\n",
              "      progress.max = size;\n",
              "      div.appendChild(progress);\n",
              "      document.body.appendChild(div);\n",
              "\n",
              "      const buffers = [];\n",
              "      let downloaded = 0;\n",
              "\n",
              "      const channel = await google.colab.kernel.comms.open(id);\n",
              "      // Send a message to notify the kernel that we're ready.\n",
              "      channel.send({})\n",
              "\n",
              "      for await (const message of channel.messages) {\n",
              "        // Send a message to notify the kernel that we're ready.\n",
              "        channel.send({})\n",
              "        if (message.buffers) {\n",
              "          for (const buffer of message.buffers) {\n",
              "            buffers.push(buffer);\n",
              "            downloaded += buffer.byteLength;\n",
              "            progress.value = downloaded;\n",
              "          }\n",
              "        }\n",
              "      }\n",
              "      const blob = new Blob(buffers, {type: 'application/binary'});\n",
              "      const a = document.createElement('a');\n",
              "      a.href = window.URL.createObjectURL(blob);\n",
              "      a.download = filename;\n",
              "      div.appendChild(a);\n",
              "      a.click();\n",
              "      div.remove();\n",
              "    }\n",
              "  "
            ]
          },
          "metadata": {}
        },
        {
          "output_type": "display_data",
          "data": {
            "text/plain": [
              "<IPython.core.display.Javascript object>"
            ],
            "application/javascript": [
              "download(\"download_e8cc2e40-7428-4cc9-a3f7-a1572e38c167\", \"requirements.txt\", 10807)"
            ]
          },
          "metadata": {}
        }
      ]
    }
  ]
}